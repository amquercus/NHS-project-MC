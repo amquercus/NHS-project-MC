{
 "cells": [
  {
   "cell_type": "markdown",
   "id": "eb92d5a7",
   "metadata": {},
   "source": [
    "### LSE Data Analytics Online Career Accelerator\n",
    "\n",
    "# Course 2: Data Analytics using Python"
   ]
  },
  {
   "cell_type": "markdown",
   "id": "0ea7e113",
   "metadata": {},
   "source": [
    "## Assignment: Diagnostic Analysis using Python\n",
    "\n",
    "You’ll be working with real-world data to address a problem faced by the National Health Service (NHS). The analysis will require you to utilise Python to explore the available data, create visualisations to identify trends, and extract meaningful insights to inform decision-making. "
   ]
  },
  {
   "cell_type": "markdown",
   "id": "bce4b767",
   "metadata": {},
   "source": [
    "### A note for students using this template\n",
    "This Jupyter Notebook is a template you can use to complete the Course 2 assignment: Diagnostic Analysis using Python. \n",
    "\n",
    "Keep in mind: \n",
    "- You are **not required** to use this template to complete the assignment. \n",
    "- If you decide to use this template for your assignment, make a copy of the notebook and save it using the assignment naming convention: **LastName_FirstName_DA201_Assignment_Notebook.ipynb**.\n",
    "- The workflow suggested in this template follows the Assignment Activities throughout the course.\n",
    "- Refer to the guidance on the Assignment Activity pages for specific details. \n",
    "- The markup and comments in this template identify the key elements you need to complete before submitting the assignment.\n",
    "- Make this notebook your own by adding your process notes and rationale using markdown, add links, screenshots, or images to support your analysis, refine or clarify the comments, and change the workflow to suit your process.\n",
    "- All elements should be functional and visible in your Notebook. \n",
    "- Be sure to push your notebook to GitHub after completing each Assignment Activity.\n",
    "\n",
    " > ***Markdown*** Remember to change cell types to `Markdown`. You can review [Markdown basics](https://docs.github.com/en/get-started/writing-on-github/getting-started-with-writing-and-formatting-on-github/basic-writing-and-formatting-syntax) to find out how to add formatted text, links, and images to your notebook."
   ]
  },
  {
   "cell_type": "markdown",
   "id": "ef6d24b2",
   "metadata": {},
   "source": [
    "# "
   ]
  },
  {
   "cell_type": "markdown",
   "id": "0834b036",
   "metadata": {},
   "source": [
    "# Assignment activity 1"
   ]
  },
  {
   "cell_type": "markdown",
   "id": "8b40c558",
   "metadata": {},
   "source": [
    "### Insert proof of your GitHub repository. This can be a link or screenshot showing your repo."
   ]
  },
  {
   "cell_type": "code",
   "execution_count": 3,
   "id": "984dc1db",
   "metadata": {},
   "outputs": [
    {
     "name": "stdout",
     "output_type": "stream",
     "text": [
      "https://github.com/amquercus/Carvalho_Margarida_DA201_Assignment\n"
     ]
    }
   ],
   "source": [
    "# My GitHub repository.\n",
    "print(\"https://github.com/amquercus/Carvalho_Margarida_DA201_Assignment\")"
   ]
  },
  {
   "cell_type": "markdown",
   "id": "af0f600f",
   "metadata": {},
   "source": [
    "# "
   ]
  },
  {
   "cell_type": "markdown",
   "id": "c010a760",
   "metadata": {},
   "source": [
    "# Assignment activity 2"
   ]
  },
  {
   "cell_type": "markdown",
   "id": "550d4c5b",
   "metadata": {},
   "source": [
    "### Prepare your workstation"
   ]
  },
  {
   "cell_type": "code",
   "execution_count": 5,
   "id": "ef565e11",
   "metadata": {},
   "outputs": [],
   "source": [
    "# Import the necessary libraries.\n",
    "import pandas as pd\n",
    "import numpy as np\n",
    "\n",
    "# Optional - Ignore warnings.\n",
    "import warnings\n",
    "warnings.filterwarnings('ignore')"
   ]
  },
  {
   "cell_type": "code",
   "execution_count": 6,
   "id": "624d89f2",
   "metadata": {},
   "outputs": [
    {
     "name": "stdout",
     "output_type": "stream",
     "text": [
      "Index(['sub_icb_location_code', 'sub_icb_location_ons_code',\n",
      "       'sub_icb_location_name', 'icb_ons_code', 'region_ons_code',\n",
      "       'appointment_date', 'actual_duration', 'count_of_appointments'],\n",
      "      dtype='object')\n",
      "  sub_icb_location_code sub_icb_location_ons_code  \\\n",
      "0                   00L                 E38000130   \n",
      "1                   00L                 E38000130   \n",
      "2                   00L                 E38000130   \n",
      "3                   00L                 E38000130   \n",
      "4                   00L                 E38000130   \n",
      "\n",
      "                        sub_icb_location_name icb_ons_code region_ons_code  \\\n",
      "0  NHS North East and North Cumbria ICB - 00L    E54000050       E40000012   \n",
      "1  NHS North East and North Cumbria ICB - 00L    E54000050       E40000012   \n",
      "2  NHS North East and North Cumbria ICB - 00L    E54000050       E40000012   \n",
      "3  NHS North East and North Cumbria ICB - 00L    E54000050       E40000012   \n",
      "4  NHS North East and North Cumbria ICB - 00L    E54000050       E40000012   \n",
      "\n",
      "  appointment_date         actual_duration  count_of_appointments  \n",
      "0        01-Dec-21           31-60 Minutes                    364  \n",
      "1        01-Dec-21           21-30 Minutes                    619  \n",
      "2        01-Dec-21            6-10 Minutes                   1698  \n",
      "3        01-Dec-21  Unknown / Data Quality                   1277  \n",
      "4        01-Dec-21           16-20 Minutes                    730  \n",
      "(137793, 8)\n",
      "sub_icb_location_code        object\n",
      "sub_icb_location_ons_code    object\n",
      "sub_icb_location_name        object\n",
      "icb_ons_code                 object\n",
      "region_ons_code              object\n",
      "appointment_date             object\n",
      "actual_duration              object\n",
      "count_of_appointments         int64\n",
      "dtype: object\n"
     ]
    }
   ],
   "source": [
    "# Import and sense-check the actual_duration.csv data set as ad.\n",
    "actual_duration = pd.read_csv('actual_duration.csv')\n",
    "ad = pd.DataFrame(actual_duration)\n",
    "\n",
    "# View the DataFrame.\n",
    "# Vizualized column names and first rows\n",
    "print(ad.columns)\n",
    "print(ad.head())\n",
    "\n",
    "# Shape (Number of rows, Number of columns)\n",
    "print(ad.shape)\n",
    "\n",
    "# Data types\n",
    "print(ad.dtypes)"
   ]
  },
  {
   "cell_type": "code",
   "execution_count": 7,
   "id": "f694cd9d",
   "metadata": {},
   "outputs": [
    {
     "name": "stdout",
     "output_type": "stream",
     "text": [
      "sub_icb_location_code        0\n",
      "sub_icb_location_ons_code    0\n",
      "sub_icb_location_name        0\n",
      "icb_ons_code                 0\n",
      "region_ons_code              0\n",
      "appointment_date             0\n",
      "actual_duration              0\n",
      "count_of_appointments        0\n",
      "dtype: int64\n"
     ]
    }
   ],
   "source": [
    "# Determine whether there are missing values.\n",
    "print(ad.isna().sum())"
   ]
  },
  {
   "cell_type": "code",
   "execution_count": 8,
   "id": "c8fd49b5",
   "metadata": {},
   "outputs": [
    {
     "name": "stdout",
     "output_type": "stream",
     "text": [
      "<class 'pandas.core.frame.DataFrame'>\n",
      "RangeIndex: 137793 entries, 0 to 137792\n",
      "Data columns (total 8 columns):\n",
      " #   Column                     Non-Null Count   Dtype \n",
      "---  ------                     --------------   ----- \n",
      " 0   sub_icb_location_code      137793 non-null  object\n",
      " 1   sub_icb_location_ons_code  137793 non-null  object\n",
      " 2   sub_icb_location_name      137793 non-null  object\n",
      " 3   icb_ons_code               137793 non-null  object\n",
      " 4   region_ons_code            137793 non-null  object\n",
      " 5   appointment_date           137793 non-null  object\n",
      " 6   actual_duration            137793 non-null  object\n",
      " 7   count_of_appointments      137793 non-null  int64 \n",
      "dtypes: int64(1), object(7)\n",
      "memory usage: 8.4+ MB\n",
      "None\n"
     ]
    }
   ],
   "source": [
    "# Determine the metadata of the data set.\n",
    "print(ad.info())"
   ]
  },
  {
   "cell_type": "code",
   "execution_count": 9,
   "id": "9fa13562",
   "metadata": {},
   "outputs": [
    {
     "name": "stdout",
     "output_type": "stream",
     "text": [
      "       count_of_appointments\n",
      "count          137793.000000\n",
      "mean             1219.080011\n",
      "std              1546.902956\n",
      "min                 1.000000\n",
      "25%               194.000000\n",
      "50%               696.000000\n",
      "75%              1621.000000\n",
      "max             15400.000000\n"
     ]
    }
   ],
   "source": [
    "# Determine the descriptive statistics of the data set.\n",
    "print(ad.describe())"
   ]
  },
  {
   "cell_type": "code",
   "execution_count": 10,
   "id": "f2dfbc7b",
   "metadata": {},
   "outputs": [
    {
     "name": "stdout",
     "output_type": "stream",
     "text": [
      "Index(['icb_ons_code', 'appointment_month', 'appointment_status', 'hcp_type',\n",
      "       'appointment_mode', 'time_between_book_and_appointment',\n",
      "       'count_of_appointments'],\n",
      "      dtype='object')\n",
      "  icb_ons_code appointment_month appointment_status hcp_type appointment_mode  \\\n",
      "0    E54000034           2020-01           Attended       GP     Face-to-Face   \n",
      "1    E54000034           2020-01           Attended       GP     Face-to-Face   \n",
      "2    E54000034           2020-01           Attended       GP     Face-to-Face   \n",
      "3    E54000034           2020-01           Attended       GP     Face-to-Face   \n",
      "4    E54000034           2020-01           Attended       GP     Face-to-Face   \n",
      "\n",
      "  time_between_book_and_appointment  count_of_appointments  \n",
      "0                             1 Day                   8107  \n",
      "1                    15  to 21 Days                   6791  \n",
      "2                       2 to 7 Days                  20686  \n",
      "3                    22  to 28 Days                   4268  \n",
      "4                     8  to 14 Days                  11971  \n",
      "(596821, 7)\n",
      "icb_ons_code                         object\n",
      "appointment_month                    object\n",
      "appointment_status                   object\n",
      "hcp_type                             object\n",
      "appointment_mode                     object\n",
      "time_between_book_and_appointment    object\n",
      "count_of_appointments                 int64\n",
      "dtype: object\n"
     ]
    }
   ],
   "source": [
    "# Import and sense-check the appointments_regional.csv data set as ar.\n",
    "appointments_regional = pd.read_csv('appointments_regional.csv')\n",
    "ar = pd.DataFrame(appointments_regional)\n",
    "\n",
    "# View the DataFrame.\n",
    "# Vizualized column names and first rows\n",
    "print(ar.columns)\n",
    "print(ar.head())\n",
    "\n",
    "# Shape (Number of rows, Number of columns)\n",
    "print(ar.shape)\n",
    "\n",
    "# Data types\n",
    "print(ar.dtypes)"
   ]
  },
  {
   "cell_type": "code",
   "execution_count": 11,
   "id": "255823c3",
   "metadata": {},
   "outputs": [
    {
     "name": "stdout",
     "output_type": "stream",
     "text": [
      "icb_ons_code                         0\n",
      "appointment_month                    0\n",
      "appointment_status                   0\n",
      "hcp_type                             0\n",
      "appointment_mode                     0\n",
      "time_between_book_and_appointment    0\n",
      "count_of_appointments                0\n",
      "dtype: int64\n"
     ]
    }
   ],
   "source": [
    "# Determine whether there are missing values.\n",
    "print(ar.isna().sum())"
   ]
  },
  {
   "cell_type": "code",
   "execution_count": 13,
   "id": "1daa3556",
   "metadata": {},
   "outputs": [
    {
     "name": "stdout",
     "output_type": "stream",
     "text": [
      "<class 'pandas.core.frame.DataFrame'>\n",
      "RangeIndex: 596821 entries, 0 to 596820\n",
      "Data columns (total 7 columns):\n",
      " #   Column                             Non-Null Count   Dtype \n",
      "---  ------                             --------------   ----- \n",
      " 0   icb_ons_code                       596821 non-null  object\n",
      " 1   appointment_month                  596821 non-null  object\n",
      " 2   appointment_status                 596821 non-null  object\n",
      " 3   hcp_type                           596821 non-null  object\n",
      " 4   appointment_mode                   596821 non-null  object\n",
      " 5   time_between_book_and_appointment  596821 non-null  object\n",
      " 6   count_of_appointments              596821 non-null  int64 \n",
      "dtypes: int64(1), object(6)\n",
      "memory usage: 31.9+ MB\n",
      "None\n"
     ]
    }
   ],
   "source": [
    "# Determine the metadata of the data set.\n",
    "print(ar.info())"
   ]
  },
  {
   "cell_type": "code",
   "execution_count": 12,
   "id": "3cbc4d97",
   "metadata": {},
   "outputs": [
    {
     "name": "stdout",
     "output_type": "stream",
     "text": [
      "       count_of_appointments\n",
      "count          596821.000000\n",
      "mean             1244.601857\n",
      "std              5856.887042\n",
      "min                 1.000000\n",
      "25%                 7.000000\n",
      "50%                47.000000\n",
      "75%               308.000000\n",
      "max            211265.000000\n"
     ]
    }
   ],
   "source": [
    "# Determine the descriptive statistics of the data set.\n",
    "print(ar.describe())"
   ]
  },
  {
   "cell_type": "code",
   "execution_count": 26,
   "id": "4e30305d",
   "metadata": {},
   "outputs": [
    {
     "name": "stdout",
     "output_type": "stream",
     "text": [
      "  appointment_date icb_ons_code                       sub_icb_location_name  \\\n",
      "0       2021-08-02    E54000050  NHS North East and North Cumbria ICB - 00L   \n",
      "1       2021-08-02    E54000050  NHS North East and North Cumbria ICB - 00L   \n",
      "2       2021-08-02    E54000050  NHS North East and North Cumbria ICB - 00L   \n",
      "3       2021-08-02    E54000050  NHS North East and North Cumbria ICB - 00L   \n",
      "4       2021-08-02    E54000050  NHS North East and North Cumbria ICB - 00L   \n",
      "\n",
      "        service_setting            context_type  \\\n",
      "0  Primary Care Network  Care Related Encounter   \n",
      "1                 Other  Care Related Encounter   \n",
      "2      General Practice  Care Related Encounter   \n",
      "3      General Practice  Care Related Encounter   \n",
      "4      General Practice  Care Related Encounter   \n",
      "\n",
      "                        national_category  count_of_appointments  \\\n",
      "0  Patient contact during Care Home Round                      3   \n",
      "1                         Planned Clinics                      7   \n",
      "2                              Home Visit                     79   \n",
      "3              General Consultation Acute                    725   \n",
      "4            Structured Medication Review                      2   \n",
      "\n",
      "  appointment_month  \n",
      "0           2021-08  \n",
      "1           2021-08  \n",
      "2           2021-08  \n",
      "3           2021-08  \n",
      "4           2021-08  \n",
      "Index(['appointment_date', 'icb_ons_code', 'sub_icb_location_name',\n",
      "       'service_setting', 'context_type', 'national_category',\n",
      "       'count_of_appointments', 'appointment_month'],\n",
      "      dtype='object')\n",
      "(817394, 8)\n",
      "appointment_date         datetime64[ns]\n",
      "icb_ons_code                     object\n",
      "sub_icb_location_name            object\n",
      "service_setting                  object\n",
      "context_type                     object\n",
      "national_category                object\n",
      "count_of_appointments             int64\n",
      "appointment_month                object\n",
      "dtype: object\n"
     ]
    }
   ],
   "source": [
    "# Import and sense-check the national_categories.xlsx data set as nc.\n",
    "national_categories = pd.read_excel('national_categories.xlsx')\n",
    "nc = pd.DataFrame(national_categories)\n",
    "\n",
    "# View the DataFrame.\n",
    "# Vizualized column names\n",
    "print(nc.head())\n",
    "print(nc.columns)\n",
    "\n",
    "# Shape (Number of rows, Number of columns)\n",
    "print(nc.shape)\n",
    "\n",
    "# Data types\n",
    "print(nc.dtypes)"
   ]
  },
  {
   "cell_type": "code",
   "execution_count": 15,
   "id": "f5dfc24e",
   "metadata": {},
   "outputs": [
    {
     "name": "stdout",
     "output_type": "stream",
     "text": [
      "appointment_date         0\n",
      "icb_ons_code             0\n",
      "sub_icb_location_name    0\n",
      "service_setting          0\n",
      "context_type             0\n",
      "national_category        0\n",
      "count_of_appointments    0\n",
      "appointment_month        0\n",
      "dtype: int64\n"
     ]
    }
   ],
   "source": [
    "# Determine whether there are missing values.\n",
    "print(nc.isna().sum())"
   ]
  },
  {
   "cell_type": "code",
   "execution_count": 16,
   "id": "e7dbbef3",
   "metadata": {},
   "outputs": [
    {
     "name": "stdout",
     "output_type": "stream",
     "text": [
      "<class 'pandas.core.frame.DataFrame'>\n",
      "RangeIndex: 817394 entries, 0 to 817393\n",
      "Data columns (total 8 columns):\n",
      " #   Column                 Non-Null Count   Dtype         \n",
      "---  ------                 --------------   -----         \n",
      " 0   appointment_date       817394 non-null  datetime64[ns]\n",
      " 1   icb_ons_code           817394 non-null  object        \n",
      " 2   sub_icb_location_name  817394 non-null  object        \n",
      " 3   service_setting        817394 non-null  object        \n",
      " 4   context_type           817394 non-null  object        \n",
      " 5   national_category      817394 non-null  object        \n",
      " 6   count_of_appointments  817394 non-null  int64         \n",
      " 7   appointment_month      817394 non-null  object        \n",
      "dtypes: datetime64[ns](1), int64(1), object(6)\n",
      "memory usage: 49.9+ MB\n",
      "None\n"
     ]
    }
   ],
   "source": [
    "# Determine the metadata of the data set.\n",
    "print(nc.info())"
   ]
  },
  {
   "cell_type": "code",
   "execution_count": 17,
   "id": "b87dfc23",
   "metadata": {},
   "outputs": [
    {
     "name": "stdout",
     "output_type": "stream",
     "text": [
      "       count_of_appointments\n",
      "count          817394.000000\n",
      "mean              362.183684\n",
      "std              1084.576600\n",
      "min                 1.000000\n",
      "25%                 7.000000\n",
      "50%                25.000000\n",
      "75%               128.000000\n",
      "max             16590.000000\n"
     ]
    }
   ],
   "source": [
    "# Determine the descriptive statistics of the data set.\n",
    "print(nc.describe())"
   ]
  },
  {
   "cell_type": "markdown",
   "id": "f86ea066",
   "metadata": {},
   "source": [
    "### Explore the data set"
   ]
  },
  {
   "cell_type": "markdown",
   "id": "333a607a",
   "metadata": {},
   "source": [
    "**Question 1:** How many locations are there in the data set?"
   ]
  },
  {
   "cell_type": "code",
   "execution_count": 18,
   "id": "749cdb45",
   "metadata": {},
   "outputs": [
    {
     "name": "stdout",
     "output_type": "stream",
     "text": [
      "Count of locations:  NHS North West London ICB - W2U3Z              13007\n",
      "NHS Kent and Medway ICB - 91Q                  12637\n",
      "NHS Devon ICB - 15N                            12526\n",
      "NHS Hampshire and Isle Of Wight ICB - D9Y0V    12171\n",
      "NHS North East London ICB - A3A8R              11837\n",
      "                                               ...  \n",
      "NHS North East and North Cumbria ICB - 00N      4210\n",
      "NHS Lancashire and South Cumbria ICB - 02G      4169\n",
      "NHS Cheshire and Merseyside ICB - 01V           3496\n",
      "NHS Cheshire and Merseyside ICB - 01T           3242\n",
      "NHS Greater Manchester ICB - 00V                2170\n",
      "Name: sub_icb_location_name, Length: 106, dtype: int64\n"
     ]
    }
   ],
   "source": [
    "# Determine the number of locations.\n",
    "location_counts = nc[\"sub_icb_location_name\"].value_counts(ascending=False)\n",
    "\n",
    "print(\"Count of locations: \", location_counts)"
   ]
  },
  {
   "cell_type": "markdown",
   "id": "93f0ce86",
   "metadata": {},
   "source": [
    "**Question 2:** What are the five locations with the highest number of records?\n",
    "\n"
   ]
  },
  {
   "cell_type": "code",
   "execution_count": 19,
   "id": "9e7c3913",
   "metadata": {},
   "outputs": [
    {
     "name": "stdout",
     "output_type": "stream",
     "text": [
      "The five locations with the highest number of records are:  NHS North West London ICB - W2U3Z              13007\n",
      "NHS Kent and Medway ICB - 91Q                  12637\n",
      "NHS Devon ICB - 15N                            12526\n",
      "NHS Hampshire and Isle Of Wight ICB - D9Y0V    12171\n",
      "NHS North East London ICB - A3A8R              11837\n",
      "Name: sub_icb_location_name, dtype: int64\n"
     ]
    }
   ],
   "source": [
    "# Determine the top five locations based on record count.\n",
    "print(\"The five locations with the highest number of records are: \",\n",
    "      location_counts.nlargest(5))"
   ]
  },
  {
   "cell_type": "markdown",
   "id": "d75405a5",
   "metadata": {},
   "source": [
    "**Question 3:** How many service settings, context types, national categories, and appointment statuses are there?"
   ]
  },
  {
   "cell_type": "code",
   "execution_count": 20,
   "id": "3cc2f7aa",
   "metadata": {},
   "outputs": [
    {
     "name": "stdout",
     "output_type": "stream",
     "text": [
      "The different service settings are:  General Practice             359274\n",
      "Primary Care Network         183790\n",
      "Other                        138789\n",
      "Extended Access Provision    108122\n",
      "Unmapped                      27419\n",
      "Name: service_setting, dtype: int64\n"
     ]
    }
   ],
   "source": [
    "# Determine the number of service settings.\n",
    "ss_count = nc[\"service_setting\"].value_counts()\n",
    "\n",
    "print(\"The different service settings are: \", ss_count)"
   ]
  },
  {
   "cell_type": "code",
   "execution_count": 21,
   "id": "f6790e40",
   "metadata": {},
   "outputs": [
    {
     "name": "stdout",
     "output_type": "stream",
     "text": [
      "The different context types are:  Care Related Encounter    700481\n",
      "Inconsistent Mapping       89494\n",
      "Unmapped                   27419\n",
      "Name: context_type, dtype: int64\n"
     ]
    }
   ],
   "source": [
    "# Determine the number of context types.\n",
    "ct_count = nc[\"context_type\"].value_counts()\n",
    "\n",
    "print(\"The different context types are: \", ct_count)"
   ]
  },
  {
   "cell_type": "code",
   "execution_count": 22,
   "id": "ba95bff3",
   "metadata": {},
   "outputs": [
    {
     "name": "stdout",
     "output_type": "stream",
     "text": [
      "The different national categories are:  Inconsistent Mapping                                                   89494\n",
      "General Consultation Routine                                           89329\n",
      "General Consultation Acute                                             84874\n",
      "Planned Clinics                                                        76429\n",
      "Clinical Triage                                                        74539\n",
      "Planned Clinical Procedure                                             59631\n",
      "Structured Medication Review                                           44467\n",
      "Service provided by organisation external to the practice              43095\n",
      "Home Visit                                                             41850\n",
      "Unplanned Clinical Activity                                            40415\n",
      "Patient contact during Care Home Round                                 28795\n",
      "Unmapped                                                               27419\n",
      "Care Home Visit                                                        26644\n",
      "Social Prescribing Service                                             26492\n",
      "Care Home Needs Assessment & Personalised Care and Support Planning    23505\n",
      "Non-contractual chargeable work                                        20896\n",
      "Walk-in                                                                14179\n",
      "Group Consultation and Group Education                                  5341\n",
      "Name: national_category, dtype: int64\n"
     ]
    }
   ],
   "source": [
    "# Determine the number of national categories.\n",
    "nc_count = nc[\"national_category\"].value_counts()\n",
    "\n",
    "print(\"The different national categories are: \", nc_count)"
   ]
  },
  {
   "cell_type": "code",
   "execution_count": 23,
   "id": "a5633147",
   "metadata": {},
   "outputs": [
    {
     "name": "stdout",
     "output_type": "stream",
     "text": [
      "The different appoitment status are:  Attended    232137\n",
      "Unknown     201324\n",
      "DNA         163360\n",
      "Name: appointment_status, dtype: int64\n"
     ]
    }
   ],
   "source": [
    "# Determine the number of appointment status.\n",
    "aps_count = ar[\"appointment_status\"].value_counts()\n",
    "\n",
    "print(\"The different appoitment status are: \", aps_count)"
   ]
  },
  {
   "cell_type": "markdown",
   "id": "7c3429c3",
   "metadata": {},
   "source": [
    "# "
   ]
  },
  {
   "cell_type": "markdown",
   "id": "edf661d9",
   "metadata": {},
   "source": [
    "# Assignment activity 3"
   ]
  },
  {
   "cell_type": "markdown",
   "id": "be5393dd",
   "metadata": {},
   "source": [
    "### Continue to explore the data and search for answers to more specific questions posed by the NHS."
   ]
  },
  {
   "cell_type": "markdown",
   "id": "a742e563",
   "metadata": {},
   "source": [
    "**Question 1:** Between what dates were appointments scheduled? "
   ]
  },
  {
   "cell_type": "code",
   "execution_count": 32,
   "id": "6d3e53a7",
   "metadata": {},
   "outputs": [
    {
     "name": "stdout",
     "output_type": "stream",
     "text": [
      "0    01-Dec-21\n",
      "1    01-Dec-21\n",
      "2    01-Dec-21\n",
      "3    01-Dec-21\n",
      "4    01-Dec-21\n",
      "Name: appointment_date, dtype: object\n"
     ]
    }
   ],
   "source": [
    "# View the first five rows of appointment_date for the ad DataFrame to determine the date format.\n",
    "print(ad[\"appointment_date\"].iloc[:5])"
   ]
  },
  {
   "cell_type": "code",
   "execution_count": 31,
   "id": "d32fb602",
   "metadata": {},
   "outputs": [
    {
     "name": "stdout",
     "output_type": "stream",
     "text": [
      "0   2021-08-02\n",
      "1   2021-08-02\n",
      "2   2021-08-02\n",
      "3   2021-08-02\n",
      "4   2021-08-02\n",
      "Name: appointment_date, dtype: datetime64[ns]\n"
     ]
    }
   ],
   "source": [
    "# View the first five rows of appointment_date for the nc DataFrame to determine the date format.\n",
    "print(nc[\"appointment_date\"].iloc[:5])"
   ]
  },
  {
   "cell_type": "code",
   "execution_count": 60,
   "id": "05a60b63",
   "metadata": {},
   "outputs": [
    {
     "ename": "AttributeError",
     "evalue": "type object 'datetime.datetime' has no attribute 'datetime'",
     "output_type": "error",
     "traceback": [
      "\u001b[1;31m---------------------------------------------------------------------------\u001b[0m",
      "\u001b[1;31mAttributeError\u001b[0m                            Traceback (most recent call last)",
      "\u001b[1;32m~\\AppData\\Local\\Temp\\ipykernel_28332\\3332604551.py\u001b[0m in \u001b[0;36m<module>\u001b[1;34m\u001b[0m\n\u001b[0;32m      3\u001b[0m \u001b[1;33m\u001b[0m\u001b[0m\n\u001b[0;32m      4\u001b[0m \u001b[1;31m# Change the date format of ad['appointment_date'].\u001b[0m\u001b[1;33m\u001b[0m\u001b[1;33m\u001b[0m\u001b[0m\n\u001b[1;32m----> 5\u001b[1;33m \u001b[0mad\u001b[0m\u001b[1;33m[\u001b[0m\u001b[1;34m\"appointment_date\"\u001b[0m\u001b[1;33m]\u001b[0m \u001b[1;33m=\u001b[0m \u001b[0mdatetime\u001b[0m\u001b[1;33m.\u001b[0m\u001b[0mdatetime\u001b[0m\u001b[1;33m.\u001b[0m\u001b[0mstrptime\u001b[0m\u001b[1;33m(\u001b[0m\u001b[0mad\u001b[0m\u001b[1;33m[\u001b[0m\u001b[1;34m\"appointment_date\"\u001b[0m\u001b[1;33m]\u001b[0m\u001b[1;33m,\u001b[0m \u001b[1;34m\"%d/%m/%Y\"\u001b[0m\u001b[1;33m)\u001b[0m\u001b[1;33m\u001b[0m\u001b[1;33m\u001b[0m\u001b[0m\n\u001b[0m\u001b[0;32m      6\u001b[0m \u001b[1;33m\u001b[0m\u001b[0m\n\u001b[0;32m      7\u001b[0m \u001b[1;31m# View the DateFrame.\u001b[0m\u001b[1;33m\u001b[0m\u001b[1;33m\u001b[0m\u001b[0m\n",
      "\u001b[1;31mAttributeError\u001b[0m: type object 'datetime.datetime' has no attribute 'datetime'"
     ]
    }
   ],
   "source": [
    "#import DateTime module \n",
    "from datetime import datetime\n",
    "\n",
    "# Change the date format of ad['appointment_date'].\n",
    "ad[\"appointment_date\"] = datetime.strptime(ad[\"appointment_date\"], \"%d/%m/%Y\")\n",
    "\n",
    "# View the DateFrame.\n",
    "print(ad.head())\n",
    "print(ad.dtypes)"
   ]
  },
  {
   "cell_type": "code",
   "execution_count": null,
   "id": "b73db1bf",
   "metadata": {},
   "outputs": [],
   "source": [
    "# Change the date format of ar['appointment_date'].\n",
    "\n",
    "\n",
    "# View the DateFrame.\n",
    "print(ar.head())\n",
    "print(ar.dtypes)"
   ]
  },
  {
   "cell_type": "code",
   "execution_count": null,
   "id": "28e6b2fa",
   "metadata": {},
   "outputs": [],
   "source": [
    "# Determine the minimum and maximum dates in the ad DataFrame.\n",
    "# Use appropriate docstrings.\n"
   ]
  },
  {
   "cell_type": "code",
   "execution_count": null,
   "id": "87072228",
   "metadata": {},
   "outputs": [],
   "source": [
    "# Determine the minimum and maximum dates in the nc DataFrame.\n",
    "# Use appropriate docstrings.\n"
   ]
  },
  {
   "cell_type": "markdown",
   "id": "f41ad664",
   "metadata": {},
   "source": [
    "**Question 2:** Which service setting was the most popular for NHS North West London from 1 January to 1 June 2022?"
   ]
  },
  {
   "cell_type": "code",
   "execution_count": null,
   "id": "b577ca5f",
   "metadata": {},
   "outputs": [],
   "source": [
    "# For each of these service settings, determine the number of records available for the period and the location. \n",
    "\n",
    "\n",
    "# View the output.\n"
   ]
  },
  {
   "cell_type": "markdown",
   "id": "7ac94132",
   "metadata": {},
   "source": [
    "**Question 3:** Which month had the highest number of appointments?"
   ]
  },
  {
   "cell_type": "code",
   "execution_count": null,
   "id": "6084c6d1",
   "metadata": {},
   "outputs": [],
   "source": [
    "# Number of appointments per month == sum of count_of_appointments by month.\n",
    "# Use the groupby() and sort_values() functions.\n"
   ]
  },
  {
   "cell_type": "markdown",
   "id": "b28a49a5",
   "metadata": {},
   "source": [
    "**Question 4:** What was the total number of records per month?"
   ]
  },
  {
   "cell_type": "code",
   "execution_count": null,
   "id": "00668a95",
   "metadata": {},
   "outputs": [],
   "source": [
    "# Total number of records per month.\n"
   ]
  },
  {
   "cell_type": "markdown",
   "id": "7aba0dca",
   "metadata": {},
   "source": [
    "# "
   ]
  },
  {
   "cell_type": "markdown",
   "id": "3a2caa91",
   "metadata": {},
   "source": [
    "# Assignment activity 4"
   ]
  },
  {
   "cell_type": "markdown",
   "id": "946a2948",
   "metadata": {},
   "source": [
    "### Create visualisations and identify possible monthly and seasonal trends in the data."
   ]
  },
  {
   "cell_type": "code",
   "execution_count": null,
   "id": "c833e1ab",
   "metadata": {},
   "outputs": [],
   "source": [
    "# Import the necessary libraries.\n",
    "import seaborn as sns\n",
    "import matplotlib.pyplot as plt\n",
    "\n",
    "# Set figure size.\n",
    "sns.set(rc={'figure.figsize':(15, 12)})\n",
    "\n",
    "# Set the plot style as white.\n",
    "sns.set_style('white')"
   ]
  },
  {
   "cell_type": "markdown",
   "id": "9bb9d65d",
   "metadata": {},
   "source": [
    "### Objective 1\n",
    "Create three visualisations indicating the number of appointments per month for service settings, context types, and national categories."
   ]
  },
  {
   "cell_type": "code",
   "execution_count": null,
   "id": "e1ba886c",
   "metadata": {},
   "outputs": [],
   "source": [
    "# Change the data type of the appointment month to string to allow for easier plotting.\n"
   ]
  },
  {
   "cell_type": "code",
   "execution_count": null,
   "id": "63160f27",
   "metadata": {},
   "outputs": [],
   "source": [
    "# Aggregate on monthly level and determine the sum of records per month.\n",
    "\n",
    "\n",
    "# View output.\n"
   ]
  },
  {
   "cell_type": "markdown",
   "id": "b82916ae",
   "metadata": {},
   "source": [
    "**Service settings:**"
   ]
  },
  {
   "cell_type": "code",
   "execution_count": null,
   "id": "485b51c6",
   "metadata": {},
   "outputs": [],
   "source": [
    "# Plot the appointments over the available date range, and review the service settings for months.\n",
    "# Create a lineplot.\n"
   ]
  },
  {
   "cell_type": "markdown",
   "id": "8145c8d9",
   "metadata": {},
   "source": [
    "**Context types:**"
   ]
  },
  {
   "cell_type": "code",
   "execution_count": null,
   "id": "1f23e5f8",
   "metadata": {},
   "outputs": [],
   "source": [
    "# Create a separate data set that can be used in future weeks. \n",
    "\n",
    "\n",
    "# View output.\n"
   ]
  },
  {
   "cell_type": "code",
   "execution_count": null,
   "id": "ca2aa462",
   "metadata": {},
   "outputs": [],
   "source": [
    "# Plot the appointments over the available date range, and review the context types for months.\n",
    "# Create a lineplot.\n"
   ]
  },
  {
   "cell_type": "markdown",
   "id": "e7d64afe",
   "metadata": {},
   "source": [
    "**National categories:**"
   ]
  },
  {
   "cell_type": "code",
   "execution_count": null,
   "id": "3b22addb",
   "metadata": {},
   "outputs": [],
   "source": [
    "# Create a separate data set that can be used in future weeks. \n",
    "\n",
    "\n",
    "# View output.\n"
   ]
  },
  {
   "cell_type": "code",
   "execution_count": null,
   "id": "6ccc0541",
   "metadata": {},
   "outputs": [],
   "source": [
    "# Plot the appointments over the available date range, and review the national categories for months.\n",
    "# Create a lineplot.\n"
   ]
  },
  {
   "cell_type": "markdown",
   "id": "a8e70f6b",
   "metadata": {},
   "source": [
    "### Objective 2\n",
    "Create four visualisations indicating the number of appointments for service setting per season. The seasons are summer (August 2021), autumn (October 2021), winter (January 2022), and spring (April 2022)."
   ]
  },
  {
   "cell_type": "markdown",
   "id": "9f2e1169",
   "metadata": {},
   "source": [
    "**Summer (August 2021):**"
   ]
  },
  {
   "cell_type": "code",
   "execution_count": null,
   "id": "9a3586e8",
   "metadata": {},
   "outputs": [],
   "source": [
    "# Create a separate data set that can be used in future weeks. \n",
    "\n",
    "\n",
    "# View output.\n"
   ]
  },
  {
   "cell_type": "code",
   "execution_count": null,
   "id": "b7f7857c",
   "metadata": {},
   "outputs": [],
   "source": [
    "# Look at August 2021 in more detail to allow a closer look.\n",
    "# Create a lineplot.\n"
   ]
  },
  {
   "cell_type": "markdown",
   "id": "5d356e45",
   "metadata": {},
   "source": [
    "**Autumn (October 2021):**"
   ]
  },
  {
   "cell_type": "code",
   "execution_count": null,
   "id": "fedd3cb6",
   "metadata": {},
   "outputs": [],
   "source": [
    "# Look at October 2021 in more detail to allow a closer look.\n",
    "# Create a lineplot.\n"
   ]
  },
  {
   "cell_type": "markdown",
   "id": "adf4194a",
   "metadata": {},
   "source": [
    "**Winter (January 2022):**"
   ]
  },
  {
   "cell_type": "code",
   "execution_count": null,
   "id": "ffca2ed1",
   "metadata": {},
   "outputs": [],
   "source": [
    "# Look at January 2022 in more detail to allow a closer look.\n",
    "# Create a lineplot.\n"
   ]
  },
  {
   "cell_type": "markdown",
   "id": "fd411d37",
   "metadata": {},
   "source": [
    "**Spring (April 2022):**"
   ]
  },
  {
   "cell_type": "code",
   "execution_count": null,
   "id": "74f43b1d",
   "metadata": {},
   "outputs": [],
   "source": [
    "# Look at April 2022 in more detail to allow a closer look.\n",
    "# Create a lineplot.\n"
   ]
  },
  {
   "cell_type": "markdown",
   "id": "d70b95c0",
   "metadata": {},
   "source": [
    "# "
   ]
  },
  {
   "cell_type": "markdown",
   "id": "d3513fd2",
   "metadata": {},
   "source": [
    "# Assignment activity 5"
   ]
  },
  {
   "cell_type": "markdown",
   "id": "347b2229",
   "metadata": {},
   "source": [
    "### Analyse tweets from Twitter with hashtags related to healthcare in the UK."
   ]
  },
  {
   "cell_type": "code",
   "execution_count": null,
   "id": "06bc19bb",
   "metadata": {},
   "outputs": [],
   "source": [
    "# Libraries and settings needed for analysis\n",
    "import pandas as pd\n",
    "import seaborn as sns\n",
    "\n",
    "# Set figure size.\n",
    "sns.set(rc={'figure.figsize':(15, 12)})\n",
    "\n",
    "# Set the plot style as white.\n",
    "sns.set_style('white')\n",
    "\n",
    "# Maximum column width to display\n",
    "pd.options.display.max_colwidth = 200"
   ]
  },
  {
   "cell_type": "code",
   "execution_count": null,
   "id": "558dec8e",
   "metadata": {},
   "outputs": [],
   "source": [
    "# Load the data set.\n",
    "\n",
    "\n",
    "# View the DataFrame.\n"
   ]
  },
  {
   "cell_type": "code",
   "execution_count": null,
   "id": "b9592370",
   "metadata": {},
   "outputs": [],
   "source": [
    "# Explore the metadata.\n"
   ]
  },
  {
   "cell_type": "code",
   "execution_count": null,
   "id": "9dfcfd06",
   "metadata": {},
   "outputs": [],
   "source": [
    "# Explore the data set.\n"
   ]
  },
  {
   "cell_type": "code",
   "execution_count": null,
   "id": "e2fd27e3",
   "metadata": {},
   "outputs": [],
   "source": [
    "# Would it be useful to only look at retweeted and favourite tweet messages?\n",
    "# Explain your answer.\n"
   ]
  },
  {
   "cell_type": "code",
   "execution_count": null,
   "id": "bb667e2f",
   "metadata": {},
   "outputs": [],
   "source": [
    "# Create a new DataFrame containing only the text.\n",
    "\n",
    "\n",
    "# View the DataFrame.\n"
   ]
  },
  {
   "cell_type": "code",
   "execution_count": null,
   "id": "ce3211b3",
   "metadata": {},
   "outputs": [],
   "source": [
    "# Loop through the messages, and create a list of values containing the # symbol.\n"
   ]
  },
  {
   "cell_type": "code",
   "execution_count": null,
   "id": "111ee38c",
   "metadata": {},
   "outputs": [],
   "source": [
    "# Display the first 30 records.\n"
   ]
  },
  {
   "cell_type": "code",
   "execution_count": null,
   "id": "3127ca56",
   "metadata": {},
   "outputs": [],
   "source": [
    "# Convert the series to a DataFrame in preparation for visualisation.\n",
    "\n",
    "\n",
    "# Rename the columns.\n"
   ]
  },
  {
   "cell_type": "code",
   "execution_count": null,
   "id": "0c7edd19",
   "metadata": {},
   "outputs": [],
   "source": [
    "# Fix the count datatype.\n",
    "\n",
    "\n",
    "# View the result.\n"
   ]
  },
  {
   "cell_type": "code",
   "execution_count": null,
   "id": "1e03f41a",
   "metadata": {},
   "outputs": [],
   "source": [
    "# Display records where the count is larger than 10.\n"
   ]
  },
  {
   "cell_type": "code",
   "execution_count": null,
   "id": "deb872d1",
   "metadata": {},
   "outputs": [],
   "source": [
    "# Create a Seaborn barplot indicating records with a count >10 records.\n"
   ]
  },
  {
   "cell_type": "code",
   "execution_count": null,
   "id": "7174f163",
   "metadata": {},
   "outputs": [],
   "source": [
    "# Create the plot.\n",
    "\n",
    "\n",
    "# View the barplot.\n"
   ]
  },
  {
   "cell_type": "markdown",
   "id": "5534d8ff",
   "metadata": {},
   "source": [
    "# "
   ]
  },
  {
   "cell_type": "markdown",
   "id": "c04eb259",
   "metadata": {},
   "source": [
    "# Assignment activity 6"
   ]
  },
  {
   "cell_type": "markdown",
   "id": "9579ccd5",
   "metadata": {},
   "source": [
    "### Investigate the main cencerns posed by the NHS. "
   ]
  },
  {
   "cell_type": "code",
   "execution_count": null,
   "id": "9e21e577",
   "metadata": {},
   "outputs": [],
   "source": [
    "# Prepare your workstation.\n",
    "# Load the appointments_regional.csv file.\n",
    "\n",
    "\n",
    "# View the DataFrame.\n"
   ]
  },
  {
   "cell_type": "code",
   "execution_count": null,
   "id": "580ed8c0",
   "metadata": {},
   "outputs": [],
   "source": [
    "# Print the min and max dates.\n"
   ]
  },
  {
   "cell_type": "code",
   "execution_count": null,
   "id": "86bef592",
   "metadata": {},
   "outputs": [],
   "source": [
    "# Filter the data set to only look at data from 2021-08 onwards.\n"
   ]
  },
  {
   "cell_type": "markdown",
   "id": "d6e4b4d8",
   "metadata": {},
   "source": [
    "**Question 1:** Should the NHS start looking at increasing staff levels? "
   ]
  },
  {
   "cell_type": "code",
   "execution_count": null,
   "id": "00805db8",
   "metadata": {},
   "outputs": [],
   "source": [
    "# Create an aggregated data set to review the different features.\n",
    "\n",
    "\n",
    "# View the DataFrame.\n"
   ]
  },
  {
   "cell_type": "code",
   "execution_count": null,
   "id": "d55c0532",
   "metadata": {},
   "outputs": [],
   "source": [
    "# Determine the total number of appointments per month.\n",
    "\n",
    "\n",
    "# Add a new column to indicate the average utilisation of services.\n",
    "# Monthly aggregate / 30 to get to a daily value.\n",
    "\n",
    "\n",
    "# View the DataFrame.\n"
   ]
  },
  {
   "cell_type": "code",
   "execution_count": null,
   "id": "76d9e2c2",
   "metadata": {},
   "outputs": [],
   "source": [
    "# Plot sum of count of monthly visits.\n",
    "# Convert the appointment_month to string data type for ease of visualisation.\n",
    "\n",
    "\n",
    "# Create a lineplot with Seaborn.\n"
   ]
  },
  {
   "cell_type": "code",
   "execution_count": null,
   "id": "e47e13f4",
   "metadata": {},
   "outputs": [],
   "source": [
    "# Plot monthly capacity utilisation.\n",
    "\n",
    "\n",
    "# Create a lineplot.\n"
   ]
  },
  {
   "cell_type": "markdown",
   "id": "eb893b06",
   "metadata": {},
   "source": [
    "**Question 2:** How do the healthcare professional types differ over time?"
   ]
  },
  {
   "cell_type": "code",
   "execution_count": null,
   "id": "4179ad07",
   "metadata": {},
   "outputs": [],
   "source": [
    "# Create a line plot to answer the question.\n"
   ]
  },
  {
   "cell_type": "markdown",
   "id": "04d7214b",
   "metadata": {},
   "source": [
    "**Question 3:** Are there significant changes in whether or not visits are attended?"
   ]
  },
  {
   "cell_type": "code",
   "execution_count": null,
   "id": "e04c1fea",
   "metadata": {},
   "outputs": [],
   "source": [
    "# Create a line plot to answer the question.\n"
   ]
  },
  {
   "cell_type": "markdown",
   "id": "7830f29e",
   "metadata": {},
   "source": [
    "**Question 4:** Are there changes in terms of appointment type and the busiest months?"
   ]
  },
  {
   "cell_type": "code",
   "execution_count": null,
   "id": "8b0e203c",
   "metadata": {},
   "outputs": [],
   "source": [
    "# Create a line plot to answer the question.\n"
   ]
  },
  {
   "cell_type": "markdown",
   "id": "56b47fa9",
   "metadata": {},
   "source": [
    "**Question 5:** Are there any trends in time between booking an appointment?"
   ]
  },
  {
   "cell_type": "code",
   "execution_count": null,
   "id": "8197701c",
   "metadata": {},
   "outputs": [],
   "source": [
    "# Create a line plot to answer the question.\n"
   ]
  },
  {
   "cell_type": "markdown",
   "id": "1047943e",
   "metadata": {},
   "source": [
    "**Question 6:** How do the spread of service settings compare?"
   ]
  },
  {
   "cell_type": "code",
   "execution_count": null,
   "id": "b3b6f791",
   "metadata": {},
   "outputs": [],
   "source": [
    "# Let's go back to the national category DataFrame you created in an earlier assignment activity.\n"
   ]
  },
  {
   "cell_type": "code",
   "execution_count": null,
   "id": "85fbdb42",
   "metadata": {},
   "outputs": [],
   "source": [
    "# Create a new DataFrame consisting of the month of appointment and the number of appointments.\n",
    "\n",
    "# View the DataFrame.\n"
   ]
  },
  {
   "cell_type": "code",
   "execution_count": 1,
   "id": "8b524499",
   "metadata": {},
   "outputs": [],
   "source": [
    "# Create a boxplot to investigate spread of service settings.\n"
   ]
  },
  {
   "cell_type": "code",
   "execution_count": null,
   "id": "c8c2c69c",
   "metadata": {},
   "outputs": [],
   "source": [
    "# Create a boxplot to investigate the service settings without GP.\n"
   ]
  },
  {
   "cell_type": "markdown",
   "id": "f3521285",
   "metadata": {},
   "source": [
    "# "
   ]
  },
  {
   "cell_type": "markdown",
   "id": "fdd46686",
   "metadata": {},
   "source": [
    "### Provide a summary of your findings and recommendations based on the analysis."
   ]
  },
  {
   "cell_type": "markdown",
   "id": "afb38a10",
   "metadata": {},
   "source": [
    "> Double click to insert your summary."
   ]
  },
  {
   "cell_type": "code",
   "execution_count": null,
   "id": "4ee5f149",
   "metadata": {},
   "outputs": [],
   "source": []
  }
 ],
 "metadata": {
  "kernelspec": {
   "display_name": "Python 3 (ipykernel)",
   "language": "python",
   "name": "python3"
  },
  "language_info": {
   "codemirror_mode": {
    "name": "ipython",
    "version": 3
   },
   "file_extension": ".py",
   "mimetype": "text/x-python",
   "name": "python",
   "nbconvert_exporter": "python",
   "pygments_lexer": "ipython3",
   "version": "3.9.13"
  }
 },
 "nbformat": 4,
 "nbformat_minor": 5
}
