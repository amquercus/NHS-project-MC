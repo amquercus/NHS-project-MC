{
 "cells": [
  {
   "cell_type": "code",
   "execution_count": 1,
   "id": "a5340b3b",
   "metadata": {},
   "outputs": [],
   "source": [
    "# Imported relevant libraries\n",
    "import pandas as pd\n",
    "import numpy as np"
   ]
  },
  {
   "cell_type": "code",
   "execution_count": 21,
   "id": "2ffcd54e",
   "metadata": {},
   "outputs": [],
   "source": [
    "# Loaded the 3 csv data files for analysis - headers yes, separator \",\"\n",
    "# Created 3 DataFrames to store above csv data files\n",
    "\n",
    "actual_duration = pd.read_csv('actual_duration.csv')\n",
    "ad = pd.DataFrame(actual_duration)\n",
    "appointments_regional = pd.read_csv('appointments_regional.csv')\n",
    "ar = pd.DataFrame(appointments_regional)\n",
    "national_categories = pd.read_excel('national_categories.xlsx')\n",
    "nc = pd.DataFrame(national_categories)"
   ]
  },
  {
   "cell_type": "code",
   "execution_count": 25,
   "id": "c56b56b0",
   "metadata": {},
   "outputs": [
    {
     "name": "stdout",
     "output_type": "stream",
     "text": [
      "  sub_icb_location_code sub_icb_location_ons_code  \\\n",
      "0                   00L                 E38000130   \n",
      "1                   00L                 E38000130   \n",
      "2                   00L                 E38000130   \n",
      "3                   00L                 E38000130   \n",
      "4                   00L                 E38000130   \n",
      "\n",
      "                        sub_icb_location_name icb_ons_code region_ons_code  \\\n",
      "0  NHS North East and North Cumbria ICB - 00L    E54000050       E40000012   \n",
      "1  NHS North East and North Cumbria ICB - 00L    E54000050       E40000012   \n",
      "2  NHS North East and North Cumbria ICB - 00L    E54000050       E40000012   \n",
      "3  NHS North East and North Cumbria ICB - 00L    E54000050       E40000012   \n",
      "4  NHS North East and North Cumbria ICB - 00L    E54000050       E40000012   \n",
      "\n",
      "  appointment_date         actual_duration  count_of_appointments  \n",
      "0        01-Dec-21           31-60 Minutes                    364  \n",
      "1        01-Dec-21           21-30 Minutes                    619  \n",
      "2        01-Dec-21            6-10 Minutes                   1698  \n",
      "3        01-Dec-21  Unknown / Data Quality                   1277  \n",
      "4        01-Dec-21           16-20 Minutes                    730  \n",
      "(137793, 8)\n",
      "sub_icb_location_code        object\n",
      "sub_icb_location_ons_code    object\n",
      "sub_icb_location_name        object\n",
      "icb_ons_code                 object\n",
      "region_ons_code              object\n",
      "appointment_date             object\n",
      "actual_duration              object\n",
      "count_of_appointments         int64\n",
      "dtype: object\n",
      "sub_icb_location_code        0\n",
      "sub_icb_location_ons_code    0\n",
      "sub_icb_location_name        0\n",
      "icb_ons_code                 0\n",
      "region_ons_code              0\n",
      "appointment_date             0\n",
      "actual_duration              0\n",
      "count_of_appointments        0\n",
      "dtype: int64\n"
     ]
    }
   ],
   "source": [
    "# Sense-checked DataFrames\n",
    "\n",
    "# Actual duration (ad)\n",
    "# Vizualized column names and first rows\n",
    "print(ad.head())\n",
    "\n",
    "# Shape (Number of rows, Number of columns)\n",
    "print(ad.shape)\n",
    "\n",
    "# Data types\n",
    "print(ad.dtypes)\n",
    "\n",
    "# Sum missing values\n",
    "print(ad.isna().sum())"
   ]
  },
  {
   "cell_type": "code",
   "execution_count": 26,
   "id": "79490311",
   "metadata": {},
   "outputs": [
    {
     "name": "stdout",
     "output_type": "stream",
     "text": [
      "  icb_ons_code appointment_month appointment_status hcp_type appointment_mode  \\\n",
      "0    E54000034           2020-01           Attended       GP     Face-to-Face   \n",
      "1    E54000034           2020-01           Attended       GP     Face-to-Face   \n",
      "2    E54000034           2020-01           Attended       GP     Face-to-Face   \n",
      "3    E54000034           2020-01           Attended       GP     Face-to-Face   \n",
      "4    E54000034           2020-01           Attended       GP     Face-to-Face   \n",
      "\n",
      "  time_between_book_and_appointment  count_of_appointments  \n",
      "0                             1 Day                   8107  \n",
      "1                    15  to 21 Days                   6791  \n",
      "2                       2 to 7 Days                  20686  \n",
      "3                    22  to 28 Days                   4268  \n",
      "4                     8  to 14 Days                  11971  \n",
      "(596821, 7)\n",
      "icb_ons_code                         object\n",
      "appointment_month                    object\n",
      "appointment_status                   object\n",
      "hcp_type                             object\n",
      "appointment_mode                     object\n",
      "time_between_book_and_appointment    object\n",
      "count_of_appointments                 int64\n",
      "dtype: object\n",
      "icb_ons_code                         0\n",
      "appointment_month                    0\n",
      "appointment_status                   0\n",
      "hcp_type                             0\n",
      "appointment_mode                     0\n",
      "time_between_book_and_appointment    0\n",
      "count_of_appointments                0\n",
      "dtype: int64\n"
     ]
    }
   ],
   "source": [
    "# Appointments regional (ar)\n",
    "# Vizualized column names and first rows\n",
    "print(ar.head())\n",
    "\n",
    "# Shape (Number of rows, Number of columns)\n",
    "print(ar.shape)\n",
    "\n",
    "# Data types\n",
    "print(ar.dtypes)\n",
    "\n",
    "# Sum missing values\n",
    "print(ar.isna().sum())"
   ]
  },
  {
   "cell_type": "code",
   "execution_count": 30,
   "id": "f583f0ea",
   "metadata": {},
   "outputs": [
    {
     "name": "stdout",
     "output_type": "stream",
     "text": [
      "  appointment_date icb_ons_code                       sub_icb_location_name  \\\n",
      "0       2021-08-02    E54000050  NHS North East and North Cumbria ICB - 00L   \n",
      "1       2021-08-02    E54000050  NHS North East and North Cumbria ICB - 00L   \n",
      "2       2021-08-02    E54000050  NHS North East and North Cumbria ICB - 00L   \n",
      "3       2021-08-02    E54000050  NHS North East and North Cumbria ICB - 00L   \n",
      "4       2021-08-02    E54000050  NHS North East and North Cumbria ICB - 00L   \n",
      "\n",
      "        service_setting            context_type  \\\n",
      "0  Primary Care Network  Care Related Encounter   \n",
      "1                 Other  Care Related Encounter   \n",
      "2      General Practice  Care Related Encounter   \n",
      "3      General Practice  Care Related Encounter   \n",
      "4      General Practice  Care Related Encounter   \n",
      "\n",
      "                        national_category  count_of_appointments  \\\n",
      "0  Patient contact during Care Home Round                      3   \n",
      "1                         Planned Clinics                      7   \n",
      "2                              Home Visit                     79   \n",
      "3              General Consultation Acute                    725   \n",
      "4            Structured Medication Review                      2   \n",
      "\n",
      "  appointment_month  \n",
      "0           2021-08  \n",
      "1           2021-08  \n",
      "2           2021-08  \n",
      "3           2021-08  \n",
      "4           2021-08  \n",
      "(817394, 8)\n",
      "appointment_date         datetime64[ns]\n",
      "icb_ons_code                     object\n",
      "sub_icb_location_name            object\n",
      "service_setting                  object\n",
      "context_type                     object\n",
      "national_category                object\n",
      "count_of_appointments             int64\n",
      "appointment_month                object\n",
      "dtype: object\n",
      "appointment_date         0\n",
      "icb_ons_code             0\n",
      "sub_icb_location_name    0\n",
      "service_setting          0\n",
      "context_type             0\n",
      "national_category        0\n",
      "count_of_appointments    0\n",
      "appointment_month        0\n",
      "dtype: int64\n"
     ]
    }
   ],
   "source": [
    "# National categories (nc)\n",
    "# Vizualized column names and first rows\n",
    "print(nc.head())\n",
    "\n",
    "# Shape (Number of rows, Number of columns)\n",
    "print(nc.shape)\n",
    "\n",
    "# Data types\n",
    "print(nc.dtypes)\n",
    "\n",
    "# Sum missing values\n",
    "print(nc.isna().sum())"
   ]
  },
  {
   "cell_type": "code",
   "execution_count": 31,
   "id": "a67dd8e1",
   "metadata": {},
   "outputs": [
    {
     "name": "stdout",
     "output_type": "stream",
     "text": [
      "<class 'pandas.core.frame.DataFrame'>\n",
      "RangeIndex: 137793 entries, 0 to 137792\n",
      "Data columns (total 8 columns):\n",
      " #   Column                     Non-Null Count   Dtype \n",
      "---  ------                     --------------   ----- \n",
      " 0   sub_icb_location_code      137793 non-null  object\n",
      " 1   sub_icb_location_ons_code  137793 non-null  object\n",
      " 2   sub_icb_location_name      137793 non-null  object\n",
      " 3   icb_ons_code               137793 non-null  object\n",
      " 4   region_ons_code            137793 non-null  object\n",
      " 5   appointment_date           137793 non-null  object\n",
      " 6   actual_duration            137793 non-null  object\n",
      " 7   count_of_appointments      137793 non-null  int64 \n",
      "dtypes: int64(1), object(7)\n",
      "memory usage: 8.4+ MB\n"
     ]
    }
   ],
   "source": [
    "# Described DataFrames\n",
    "\n",
    "ad.describe()\n",
    "ad.info()"
   ]
  },
  {
   "cell_type": "code",
   "execution_count": 32,
   "id": "67a99d8f",
   "metadata": {},
   "outputs": [
    {
     "name": "stdout",
     "output_type": "stream",
     "text": [
      "<class 'pandas.core.frame.DataFrame'>\n",
      "RangeIndex: 596821 entries, 0 to 596820\n",
      "Data columns (total 7 columns):\n",
      " #   Column                             Non-Null Count   Dtype \n",
      "---  ------                             --------------   ----- \n",
      " 0   icb_ons_code                       596821 non-null  object\n",
      " 1   appointment_month                  596821 non-null  object\n",
      " 2   appointment_status                 596821 non-null  object\n",
      " 3   hcp_type                           596821 non-null  object\n",
      " 4   appointment_mode                   596821 non-null  object\n",
      " 5   time_between_book_and_appointment  596821 non-null  object\n",
      " 6   count_of_appointments              596821 non-null  int64 \n",
      "dtypes: int64(1), object(6)\n",
      "memory usage: 31.9+ MB\n"
     ]
    }
   ],
   "source": [
    "ar.describe()\n",
    "ar.info()"
   ]
  },
  {
   "cell_type": "code",
   "execution_count": 33,
   "id": "6cc647b3",
   "metadata": {},
   "outputs": [
    {
     "name": "stdout",
     "output_type": "stream",
     "text": [
      "<class 'pandas.core.frame.DataFrame'>\n",
      "RangeIndex: 817394 entries, 0 to 817393\n",
      "Data columns (total 8 columns):\n",
      " #   Column                 Non-Null Count   Dtype         \n",
      "---  ------                 --------------   -----         \n",
      " 0   appointment_date       817394 non-null  datetime64[ns]\n",
      " 1   icb_ons_code           817394 non-null  object        \n",
      " 2   sub_icb_location_name  817394 non-null  object        \n",
      " 3   service_setting        817394 non-null  object        \n",
      " 4   context_type           817394 non-null  object        \n",
      " 5   national_category      817394 non-null  object        \n",
      " 6   count_of_appointments  817394 non-null  int64         \n",
      " 7   appointment_month      817394 non-null  object        \n",
      "dtypes: datetime64[ns](1), int64(1), object(6)\n",
      "memory usage: 49.9+ MB\n"
     ]
    }
   ],
   "source": [
    "nc.describe()\n",
    "nc.info()"
   ]
  },
  {
   "cell_type": "code",
   "execution_count": 50,
   "id": "0705fb12",
   "metadata": {
    "scrolled": true
   },
   "outputs": [
    {
     "name": "stdout",
     "output_type": "stream",
     "text": [
      "Count of locations:  NHS North West London ICB - W2U3Z              13007\n",
      "NHS Kent and Medway ICB - 91Q                  12637\n",
      "NHS Devon ICB - 15N                            12526\n",
      "NHS Hampshire and Isle Of Wight ICB - D9Y0V    12171\n",
      "NHS North East London ICB - A3A8R              11837\n",
      "                                               ...  \n",
      "NHS North East and North Cumbria ICB - 00N      4210\n",
      "NHS Lancashire and South Cumbria ICB - 02G      4169\n",
      "NHS Cheshire and Merseyside ICB - 01V           3496\n",
      "NHS Cheshire and Merseyside ICB - 01T           3242\n",
      "NHS Greater Manchester ICB - 00V                2170\n",
      "Name: sub_icb_location_name, Length: 106, dtype: int64\n"
     ]
    }
   ],
   "source": [
    "# How many locations are there in the data set?\n",
    "\n",
    "location_counts = nc[\"sub_icb_location_name\"].value_counts(ascending=False)\n",
    "\n",
    "print(\"Count of locations: \", location_counts)"
   ]
  },
  {
   "cell_type": "code",
   "execution_count": 49,
   "id": "41602eae",
   "metadata": {},
   "outputs": [
    {
     "name": "stdout",
     "output_type": "stream",
     "text": [
      "The five locations with the highest number of records are:  NHS North West London ICB - W2U3Z              13007\n",
      "NHS Kent and Medway ICB - 91Q                  12637\n",
      "NHS Devon ICB - 15N                            12526\n",
      "NHS Hampshire and Isle Of Wight ICB - D9Y0V    12171\n",
      "NHS North East London ICB - A3A8R              11837\n",
      "Name: sub_icb_location_name, dtype: int64\n"
     ]
    }
   ],
   "source": [
    "# What are the five locations with the highest number of records?\n",
    "\n",
    "print(\"The five locations with the highest number of records are: \",\n",
    "      location_counts.nlargest(5))"
   ]
  },
  {
   "cell_type": "code",
   "execution_count": 52,
   "id": "bcb2e6dd",
   "metadata": {
    "scrolled": true
   },
   "outputs": [
    {
     "name": "stdout",
     "output_type": "stream",
     "text": [
      "The different service settings are:  General Practice             359274\n",
      "Primary Care Network         183790\n",
      "Other                        138789\n",
      "Extended Access Provision    108122\n",
      "Unmapped                      27419\n",
      "Name: service_setting, dtype: int64\n"
     ]
    }
   ],
   "source": [
    "# How many service settings, context types, national categories, and appointment statuses are there?\n",
    "\n",
    "# Count service settings\n",
    "ss_count = nc[\"service_setting\"].value_counts()\n",
    "\n",
    "print(\"The different service settings are: \", ss_count)"
   ]
  },
  {
   "cell_type": "code",
   "execution_count": 55,
   "id": "761bf626",
   "metadata": {},
   "outputs": [
    {
     "name": "stdout",
     "output_type": "stream",
     "text": [
      "The different context types are:  Care Related Encounter    700481\n",
      "Inconsistent Mapping       89494\n",
      "Unmapped                   27419\n",
      "Name: context_type, dtype: int64\n"
     ]
    }
   ],
   "source": [
    "# Count context types\n",
    "ct_count = nc[\"context_type\"].value_counts()\n",
    "\n",
    "print(\"The different context types are: \", ct_count)"
   ]
  },
  {
   "cell_type": "code",
   "execution_count": 56,
   "id": "751a2782",
   "metadata": {},
   "outputs": [
    {
     "name": "stdout",
     "output_type": "stream",
     "text": [
      "The different national categories are:  Inconsistent Mapping                                                   89494\n",
      "General Consultation Routine                                           89329\n",
      "General Consultation Acute                                             84874\n",
      "Planned Clinics                                                        76429\n",
      "Clinical Triage                                                        74539\n",
      "Planned Clinical Procedure                                             59631\n",
      "Structured Medication Review                                           44467\n",
      "Service provided by organisation external to the practice              43095\n",
      "Home Visit                                                             41850\n",
      "Unplanned Clinical Activity                                            40415\n",
      "Patient contact during Care Home Round                                 28795\n",
      "Unmapped                                                               27419\n",
      "Care Home Visit                                                        26644\n",
      "Social Prescribing Service                                             26492\n",
      "Care Home Needs Assessment & Personalised Care and Support Planning    23505\n",
      "Non-contractual chargeable work                                        20896\n",
      "Walk-in                                                                14179\n",
      "Group Consultation and Group Education                                  5341\n",
      "Name: national_category, dtype: int64\n"
     ]
    }
   ],
   "source": [
    "# Count national categories\n",
    "nc_count = nc[\"national_category\"].value_counts()\n",
    "\n",
    "print(\"The different national categories are: \", nc_count)"
   ]
  },
  {
   "cell_type": "code",
   "execution_count": 57,
   "id": "fc93f6f1",
   "metadata": {},
   "outputs": [
    {
     "name": "stdout",
     "output_type": "stream",
     "text": [
      "The different appoitment status are:  Attended    232137\n",
      "Unknown     201324\n",
      "DNA         163360\n",
      "Name: appointment_status, dtype: int64\n"
     ]
    }
   ],
   "source": [
    "# Count appointment statuses\n",
    "aps_count = ar[\"appointment_status\"].value_counts()\n",
    "\n",
    "print(\"The different appoitment status are: \", aps_count)"
   ]
  },
  {
   "cell_type": "code",
   "execution_count": null,
   "id": "a46da956",
   "metadata": {},
   "outputs": [],
   "source": []
  }
 ],
 "metadata": {
  "kernelspec": {
   "display_name": "Python 3 (ipykernel)",
   "language": "python",
   "name": "python3"
  },
  "language_info": {
   "codemirror_mode": {
    "name": "ipython",
    "version": 3
   },
   "file_extension": ".py",
   "mimetype": "text/x-python",
   "name": "python",
   "nbconvert_exporter": "python",
   "pygments_lexer": "ipython3",
   "version": "3.9.13"
  }
 },
 "nbformat": 4,
 "nbformat_minor": 5
}
